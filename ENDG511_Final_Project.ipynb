{
  "nbformat": 4,
  "nbformat_minor": 0,
  "metadata": {
    "colab": {
      "provenance": [],
      "gpuType": "T4"
    },
    "kernelspec": {
      "name": "python3",
      "display_name": "Python 3"
    },
    "language_info": {
      "name": "python"
    },
    "accelerator": "GPU"
  },
  "cells": [
    {
      "cell_type": "markdown",
      "source": [
        "##Git Clone##"
      ],
      "metadata": {
        "id": "qyYAw90CsAdV"
      }
    },
    {
      "cell_type": "code",
      "source": [
        "!git clone https://github.com/KaleF07/WasteClassification.git"
      ],
      "metadata": {
        "colab": {
          "base_uri": "https://localhost:8080/"
        },
        "id": "G5I7dy3HsKrS",
        "outputId": "4fe7f0c3-b274-4152-bddc-e77b06a7d83d"
      },
      "execution_count": null,
      "outputs": [
        {
          "output_type": "stream",
          "name": "stdout",
          "text": [
            "Cloning into 'WasteClassification'...\n",
            "remote: Enumerating objects: 24766, done.\u001b[K\n",
            "remote: Counting objects: 100% (6/6), done.\u001b[K\n",
            "remote: Compressing objects: 100% (4/4), done.\u001b[K\n",
            "remote: Total 24766 (delta 0), reused 6 (delta 0), pack-reused 24760\u001b[K\n",
            "Receiving objects: 100% (24766/24766), 207.36 MiB | 21.51 MiB/s, done.\n",
            "Updating files: 100% (25079/25079), done.\n"
          ]
        }
      ]
    },
    {
      "cell_type": "markdown",
      "source": [
        "##INSTALLATIONS##"
      ],
      "metadata": {
        "id": "PG7g28DJr4lw"
      }
    },
    {
      "cell_type": "code",
      "execution_count": null,
      "metadata": {
        "id": "C1HDL2GTryEQ"
      },
      "outputs": [],
      "source": [
        "!pip install -Uqq fastbook\n",
        "import fastbook\n",
        "fastbook.setup_book()\n",
        "from fastbook import *\n",
        "from fastai.vision.widgets import *"
      ]
    },
    {
      "cell_type": "markdown",
      "source": [
        "##PATH##"
      ],
      "metadata": {
        "id": "ce_hq0VusQYO"
      }
    },
    {
      "cell_type": "code",
      "source": [
        "export_path = Path('/content/WasteClassification/DATASET')\n",
        "export_path.ls()"
      ],
      "metadata": {
        "id": "vX8n5LnesTS6"
      },
      "execution_count": null,
      "outputs": []
    },
    {
      "cell_type": "code",
      "source": [
        "path = export_path/'TRAIN'\n",
        "get_image_files(path)"
      ],
      "metadata": {
        "id": "MzekHA9btDHx"
      },
      "execution_count": null,
      "outputs": []
    },
    {
      "cell_type": "markdown",
      "source": [
        "##NUMBER OF IMAGES##"
      ],
      "metadata": {
        "id": "QTM_ofagtdJG"
      }
    },
    {
      "cell_type": "code",
      "source": [
        "import os\n",
        "\n",
        "lst = os.listdir('/content/WasteClassification/DATASET/TRAIN/O') # your directory path\n",
        "number_files_Organic = len(lst)\n",
        "print (number_files_Organic)"
      ],
      "metadata": {
        "id": "_pygU-Pith6z"
      },
      "execution_count": null,
      "outputs": []
    },
    {
      "cell_type": "code",
      "source": [
        "import os\n",
        "\n",
        "lst = os.listdir('/content/WasteClassification/DATASET/TRAIN/R') # your directory path\n",
        "number_files_Recyclable = len(lst)\n",
        "print (number_files_Recyclable)"
      ],
      "metadata": {
        "id": "7DdVRdi3too4"
      },
      "execution_count": null,
      "outputs": []
    },
    {
      "cell_type": "markdown",
      "source": [
        "##DATA LOADING & AUGMENTATION##"
      ],
      "metadata": {
        "id": "FCNPGIJytzN9"
      }
    },
    {
      "cell_type": "code",
      "source": [
        "waste = DataBlock(\n",
        "    blocks=(ImageBlock, CategoryBlock), #image->discrete category\n",
        "    get_items=get_image_files, # path->images\n",
        "    splitter=RandomSplitter(valid_pct=0.2, seed=42), #how to train-valid split\n",
        "    get_y=parent_label, # get the label from the directory name\n",
        "    item_tfms=Resize(128),\n",
        "    batch_tfms=[*aug_transforms(mult=1,flip_vert=True,max_zoom=2,max_warp=0,do_flip=True),\n",
        "                Brightness (max_lighting:float=0.2, p:float=0.75,\n",
        "             draw:float|MutableSequence|callable=None, batch=False),\n",
        "                 grayscale (x),\n",
        "                cutout_gaussian (x:torch.Tensor, areas:list),\n",
        "                CropPad (size:int|tuple, pad_mode:PadMode='zeros', **kwargs)) # resize to 128x128\n",
        "\n",
        "dls = waste.dataloaders(path)"
      ],
      "metadata": {
        "id": "TYLNlEUot3Pu"
      },
      "execution_count": null,
      "outputs": []
    },
    {
      "cell_type": "code",
      "source": [
        "dls.train.show_batch(max_n=50, nrows=6)"
      ],
      "metadata": {
        "id": "uSUt5fUluD5u"
      },
      "execution_count": null,
      "outputs": []
    },
    {
      "cell_type": "code",
      "source": [
        "dls.valid.show_batch(max_n=50, nrows=6)"
      ],
      "metadata": {
        "id": "QPKl4D_zJ125"
      },
      "execution_count": null,
      "outputs": []
    }
  ]
}