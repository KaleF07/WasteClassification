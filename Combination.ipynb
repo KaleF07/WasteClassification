{
  "nbformat": 4,
  "nbformat_minor": 0,
  "metadata": {
    "colab": {
      "provenance": [],
      "authorship_tag": "ABX9TyPqiChH40jKYFSgXqu9PHzW",
      "include_colab_link": true
    },
    "kernelspec": {
      "name": "python3",
      "display_name": "Python 3"
    },
    "language_info": {
      "name": "python"
    }
  },
  "cells": [
    {
      "cell_type": "markdown",
      "metadata": {
        "id": "view-in-github",
        "colab_type": "text"
      },
      "source": [
        "<a href=\"https://colab.research.google.com/github/KaleF07/WasteClassification/blob/main/Combination.ipynb\" target=\"_parent\"><img src=\"https://colab.research.google.com/assets/colab-badge.svg\" alt=\"Open In Colab\"/></a>"
      ]
    },
    {
      "cell_type": "markdown",
      "source": [
        "##GIT CLONE"
      ],
      "metadata": {
        "id": "qxRUdCQE_gmV"
      }
    },
    {
      "cell_type": "code",
      "execution_count": 1,
      "metadata": {
        "colab": {
          "base_uri": "https://localhost:8080/"
        },
        "id": "kUo8obBD_V4_",
        "outputId": "a1f98ddc-08be-460f-dbfa-154e40c97965"
      },
      "outputs": [
        {
          "output_type": "stream",
          "name": "stdout",
          "text": [
            "Cloning into 'WasteClassification'...\n",
            "remote: Enumerating objects: 24766, done.\u001b[K\n",
            "remote: Counting objects: 100% (6/6), done.\u001b[K\n",
            "remote: Compressing objects: 100% (4/4), done.\u001b[K\n",
            "remote: Total 24766 (delta 0), reused 6 (delta 0), pack-reused 24760\u001b[K\n",
            "Receiving objects: 100% (24766/24766), 207.36 MiB | 13.16 MiB/s, done.\n",
            "Updating files: 100% (25079/25079), done.\n"
          ]
        }
      ],
      "source": [
        "!git clone https://github.com/KaleF07/WasteClassification.git"
      ]
    },
    {
      "cell_type": "markdown",
      "source": [
        "##INSTALLATION"
      ],
      "metadata": {
        "id": "aqcr8PkY_kM5"
      }
    },
    {
      "cell_type": "code",
      "source": [
        "!pip install -Uqq fastbook\n",
        "import fastbook\n",
        "fastbook.setup_book()\n",
        "from fastbook import *\n",
        "from fastai.vision.widgets import *"
      ],
      "metadata": {
        "colab": {
          "base_uri": "https://localhost:8080/"
        },
        "id": "qrT4lofu_fUl",
        "outputId": "26232ebd-2a6d-4a0d-a6a2-d1040031b247"
      },
      "execution_count": 2,
      "outputs": [
        {
          "output_type": "stream",
          "name": "stdout",
          "text": [
            "\u001b[2K     \u001b[90m━━━━━━━━━━━━━━━━━━━━━━━━━━━━━━━━━━━━━━━━\u001b[0m \u001b[32m719.8/719.8 kB\u001b[0m \u001b[31m7.2 MB/s\u001b[0m eta \u001b[36m0:00:00\u001b[0m\n",
            "\u001b[2K     \u001b[90m━━━━━━━━━━━━━━━━━━━━━━━━━━━━━━━━━━━━━━━━\u001b[0m \u001b[32m510.5/510.5 kB\u001b[0m \u001b[31m11.9 MB/s\u001b[0m eta \u001b[36m0:00:00\u001b[0m\n",
            "\u001b[2K     \u001b[90m━━━━━━━━━━━━━━━━━━━━━━━━━━━━━━━━━━━━━━━━\u001b[0m \u001b[32m116.3/116.3 kB\u001b[0m \u001b[31m11.9 MB/s\u001b[0m eta \u001b[36m0:00:00\u001b[0m\n",
            "\u001b[2K     \u001b[90m━━━━━━━━━━━━━━━━━━━━━━━━━━━━━━━━━━━━━━━━\u001b[0m \u001b[32m194.1/194.1 kB\u001b[0m \u001b[31m7.2 MB/s\u001b[0m eta \u001b[36m0:00:00\u001b[0m\n",
            "\u001b[2K     \u001b[90m━━━━━━━━━━━━━━━━━━━━━━━━━━━━━━━━━━━━━━━━\u001b[0m \u001b[32m134.8/134.8 kB\u001b[0m \u001b[31m7.2 MB/s\u001b[0m eta \u001b[36m0:00:00\u001b[0m\n",
            "\u001b[2K     \u001b[90m━━━━━━━━━━━━━━━━━━━━━━━━━━━━━━━━━━━━━━━━\u001b[0m \u001b[32m1.6/1.6 MB\u001b[0m \u001b[31m16.6 MB/s\u001b[0m eta \u001b[36m0:00:00\u001b[0m\n",
            "\u001b[2K     \u001b[90m━━━━━━━━━━━━━━━━━━━━━━━━━━━━━━━━━━━━━━━━\u001b[0m \u001b[32m23.7/23.7 MB\u001b[0m \u001b[31m29.9 MB/s\u001b[0m eta \u001b[36m0:00:00\u001b[0m\n",
            "\u001b[2K     \u001b[90m━━━━━━━━━━━━━━━━━━━━━━━━━━━━━━━━━━━━━━━━\u001b[0m \u001b[32m823.6/823.6 kB\u001b[0m \u001b[31m33.5 MB/s\u001b[0m eta \u001b[36m0:00:00\u001b[0m\n",
            "\u001b[2K     \u001b[90m━━━━━━━━━━━━━━━━━━━━━━━━━━━━━━━━━━━━━━━━\u001b[0m \u001b[32m14.1/14.1 MB\u001b[0m \u001b[31m36.8 MB/s\u001b[0m eta \u001b[36m0:00:00\u001b[0m\n",
            "\u001b[2K     \u001b[90m━━━━━━━━━━━━━━━━━━━━━━━━━━━━━━━━━━━━━━━━\u001b[0m \u001b[32m731.7/731.7 MB\u001b[0m \u001b[31m1.0 MB/s\u001b[0m eta \u001b[36m0:00:00\u001b[0m\n",
            "\u001b[2K     \u001b[90m━━━━━━━━━━━━━━━━━━━━━━━━━━━━━━━━━━━━━━━━\u001b[0m \u001b[32m410.6/410.6 MB\u001b[0m \u001b[31m3.7 MB/s\u001b[0m eta \u001b[36m0:00:00\u001b[0m\n",
            "\u001b[2K     \u001b[90m━━━━━━━━━━━━━━━━━━━━━━━━━━━━━━━━━━━━━━━━\u001b[0m \u001b[32m121.6/121.6 MB\u001b[0m \u001b[31m8.5 MB/s\u001b[0m eta \u001b[36m0:00:00\u001b[0m\n",
            "\u001b[2K     \u001b[90m━━━━━━━━━━━━━━━━━━━━━━━━━━━━━━━━━━━━━━━━\u001b[0m \u001b[32m56.5/56.5 MB\u001b[0m \u001b[31m10.2 MB/s\u001b[0m eta \u001b[36m0:00:00\u001b[0m\n",
            "\u001b[2K     \u001b[90m━━━━━━━━━━━━━━━━━━━━━━━━━━━━━━━━━━━━━━━━\u001b[0m \u001b[32m124.2/124.2 MB\u001b[0m \u001b[31m8.2 MB/s\u001b[0m eta \u001b[36m0:00:00\u001b[0m\n",
            "\u001b[2K     \u001b[90m━━━━━━━━━━━━━━━━━━━━━━━━━━━━━━━━━━━━━━━━\u001b[0m \u001b[32m196.0/196.0 MB\u001b[0m \u001b[31m5.8 MB/s\u001b[0m eta \u001b[36m0:00:00\u001b[0m\n",
            "\u001b[2K     \u001b[90m━━━━━━━━━━━━━━━━━━━━━━━━━━━━━━━━━━━━━━━━\u001b[0m \u001b[32m166.0/166.0 MB\u001b[0m \u001b[31m7.4 MB/s\u001b[0m eta \u001b[36m0:00:00\u001b[0m\n",
            "\u001b[2K     \u001b[90m━━━━━━━━━━━━━━━━━━━━━━━━━━━━━━━━━━━━━━━━\u001b[0m \u001b[32m99.1/99.1 kB\u001b[0m \u001b[31m15.5 MB/s\u001b[0m eta \u001b[36m0:00:00\u001b[0m\n",
            "\u001b[2K     \u001b[90m━━━━━━━━━━━━━━━━━━━━━━━━━━━━━━━━━━━━━━━━\u001b[0m \u001b[32m21.1/21.1 MB\u001b[0m \u001b[31m70.1 MB/s\u001b[0m eta \u001b[36m0:00:00\u001b[0m\n",
            "\u001b[?25hMounted at /content/gdrive\n"
          ]
        }
      ]
    },
    {
      "cell_type": "markdown",
      "source": [
        "##MOVE IMAGES TO A COMBINED FOLDER##"
      ],
      "metadata": {
        "id": "dni7UKLq_v5X"
      }
    },
    {
      "cell_type": "markdown",
      "source": [
        "## Organic images from Train data"
      ],
      "metadata": {
        "id": "wtdFc6YqpqxE"
      }
    },
    {
      "cell_type": "code",
      "source": [
        "import os\n",
        "import shutil\n",
        "\n",
        "source_folder = \"/content/WasteClassification/DATASET/TRAIN/O/\"\n",
        "destination_folder = \"/content/WasteClassification/DATASET/COMBINED/ORGANIC/\"\n",
        "\n",
        "\n",
        "# fetch all files\n",
        "for file_name in os.listdir(source_folder):\n",
        "    # construct full file path\n",
        "    source = source_folder + file_name\n",
        "    # destination = destination_folder + file_name\n",
        "    # move only files\n",
        "\n",
        "    shutil.move(source, destination_folder)\n",
        "    # print('Moved:', file_name)"
      ],
      "metadata": {
        "id": "UoU4hhpK_nnS"
      },
      "execution_count": 4,
      "outputs": []
    },
    {
      "cell_type": "markdown",
      "source": [
        "## Recyclable images from Train data"
      ],
      "metadata": {
        "id": "llJfbrwMpi-V"
      }
    },
    {
      "cell_type": "code",
      "source": [
        "import os\n",
        "import shutil\n",
        "\n",
        "source_folder2 = \"/content/WasteClassification/DATASET/TRAIN/R/\"\n",
        "destination_folder2 = \"/content/WasteClassification/DATASET/COMBINED/RECYCLABLE/\"\n",
        "\n",
        "\n",
        "# fetch all files\n",
        "for file_name in os.listdir(source_folder2):\n",
        "    # construct full file path\n",
        "    source2 = source_folder2 + file_name\n",
        "    # destination = destination_folder + file_name\n",
        "    # move only files\n",
        "\n",
        "    shutil.move(source2, destination_folder2)\n",
        "    # print('Moved:', file_name)"
      ],
      "metadata": {
        "id": "lVPU03Krppbq"
      },
      "execution_count": 5,
      "outputs": []
    },
    {
      "cell_type": "markdown",
      "source": [
        "## Organic images from Test data"
      ],
      "metadata": {
        "id": "alVQo2eEpxyq"
      }
    },
    {
      "cell_type": "code",
      "source": [
        "import os\n",
        "import shutil\n",
        "\n",
        "source_folder3 = \"/content/WasteClassification/DATASET/TEST/O/\"\n",
        "destination_folder3 = \"/content/WasteClassification/DATASET/COMBINED/ORGANIC/\"\n",
        "\n",
        "\n",
        "# fetch all files\n",
        "for file_name in os.listdir(source_folder3):\n",
        "    # construct full file path\n",
        "    source3 = source_folder3 + file_name\n",
        "    # destination = destination_folder + file_name\n",
        "    # move only files\n",
        "\n",
        "    shutil.move(source3, destination_folder3)\n",
        "    # print('Moved:', file_name)"
      ],
      "metadata": {
        "id": "WRLW3TXkqoLN"
      },
      "execution_count": 6,
      "outputs": []
    },
    {
      "cell_type": "markdown",
      "source": [
        "## Recyclable images from Test data"
      ],
      "metadata": {
        "id": "qnBUgORlp6Zs"
      }
    },
    {
      "cell_type": "code",
      "source": [
        "import os\n",
        "import shutil\n",
        "\n",
        "source_folder4 = \"/content/WasteClassification/DATASET/TEST/R/\"\n",
        "destination_folder4 = \"/content/WasteClassification/DATASET/COMBINED/RECYCLABLE/\"\n",
        "\n",
        "\n",
        "# fetch all files\n",
        "for file_name in os.listdir(source_folder4):\n",
        "    # construct full file path\n",
        "    source4 = source_folder4 + file_name\n",
        "    # destination = destination_folder + file_name\n",
        "    # move only files\n",
        "\n",
        "    shutil.move(source4, destination_folder4)\n",
        "    # print('Moved:', file_name)"
      ],
      "metadata": {
        "id": "NwtOAgHIsc3a"
      },
      "execution_count": 7,
      "outputs": []
    },
    {
      "cell_type": "markdown",
      "source": [
        "##Count"
      ],
      "metadata": {
        "id": "4zfFMVWEtDoP"
      }
    },
    {
      "cell_type": "code",
      "source": [
        "import os\n",
        "\n",
        "lst = os.listdir('/content/WasteClassification/DATASET/COMBINED/ORGANIC') # your directory path\n",
        "number_files_Organic = len(lst)\n",
        "print (\"ORGANIC COUNT:\", number_files_Organic)"
      ],
      "metadata": {
        "colab": {
          "base_uri": "https://localhost:8080/"
        },
        "id": "T7xs9YUhtHO8",
        "outputId": "40ef50c1-7538-4be8-ce2d-e82431119b7f"
      },
      "execution_count": 8,
      "outputs": [
        {
          "output_type": "stream",
          "name": "stdout",
          "text": [
            "ORGANIC COUNT: 13966\n"
          ]
        }
      ]
    },
    {
      "cell_type": "code",
      "source": [
        "import os\n",
        "\n",
        "lst = os.listdir('/content/WasteClassification/DATASET/COMBINED/RECYCLABLE') # your directory path\n",
        "number_files_Organic = len(lst)\n",
        "print (\"RECYCLABLE COUNT:\", number_files_Organic)"
      ],
      "metadata": {
        "colab": {
          "base_uri": "https://localhost:8080/"
        },
        "id": "-iVZA2V9tVri",
        "outputId": "4725cac4-95ab-4c8a-c251-09a82b410889"
      },
      "execution_count": 9,
      "outputs": [
        {
          "output_type": "stream",
          "name": "stdout",
          "text": [
            "RECYCLABLE COUNT: 11111\n"
          ]
        }
      ]
    },
    {
      "cell_type": "markdown",
      "source": [
        "##GIT PUSH##"
      ],
      "metadata": {
        "id": "9kOXLtqvuTLm"
      }
    }
  ]
}