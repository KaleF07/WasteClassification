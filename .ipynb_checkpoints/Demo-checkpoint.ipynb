{
 "cells": [
  {
   "cell_type": "code",
   "execution_count": 1,
   "metadata": {
    "id": "PeLJj2VcVNKr"
   },
   "outputs": [
    {
     "name": "stderr",
     "output_type": "stream",
     "text": [
      "C:\\Users\\farid\\anaconda3\\lib\\site-packages\\numpy\\_distributor_init.py:30: UserWarning: loaded more than 1 DLL from .libs:\n",
      "C:\\Users\\farid\\anaconda3\\lib\\site-packages\\numpy\\.libs\\libopenblas.FB5AE2TYXYH2IJRDKGDGQ3XBKLKTF43H.gfortran-win_amd64.dll\n",
      "C:\\Users\\farid\\anaconda3\\lib\\site-packages\\numpy\\.libs\\libopenblas64__v0.3.21-gcc_10_3_0.dll\n",
      "  warnings.warn(\"loaded more than 1 DLL from .libs:\"\n",
      "C:\\Users\\farid\\anaconda3\\lib\\site-packages\\scipy\\__init__.py:138: UserWarning: A NumPy version >=1.16.5 and <1.23.0 is required for this version of SciPy (detected version 1.23.0)\n",
      "  warnings.warn(f\"A NumPy version >={np_minversion} and <{np_maxversion} is required for this version of \"\n"
     ]
    }
   ],
   "source": [
    "import os\n",
    "import matplotlib.pyplot as plt\n",
    "import time\n",
    "import tempfile\n",
    "import numpy as np\n",
    "import tensorflow as tf"
   ]
  },
  {
   "cell_type": "code",
   "execution_count": 2,
   "metadata": {},
   "outputs": [],
   "source": [
    "load_model = tf.keras.models.load_model('mobilenet_model.h5', compile=True)"
   ]
  },
  {
   "cell_type": "code",
   "execution_count": 3,
   "metadata": {},
   "outputs": [],
   "source": [
    "# Convert model from type Functional to Sequential\n",
    "mobilenet_model = tf.keras.models.Sequential()\n",
    "for layer in load_model.layers:\n",
    "    mobilenet_model.add(layer)"
   ]
  },
  {
   "cell_type": "code",
   "execution_count": null,
   "metadata": {},
   "outputs": [],
   "source": [
    "import cv2\n",
    "import numpy as np\n",
    "import tkinter as tk\n",
    "from keras.models import load_model\n",
    "from keras.preprocessing import image\n",
    "from keras.applications.mobilenet import preprocess_input, decode_predictions\n",
    "from PIL import Image, ImageTk\n",
    "\n",
    "# Function to preprocess the image\n",
    "def preprocess_frame(frame):\n",
    "    # Resize the frame to match the input size of your model\n",
    "    frame = cv2.resize(frame, (150, 150))\n",
    "    # Preprocess the frame for your model\n",
    "    frame = image.img_to_array(frame)\n",
    "    frame = np.expand_dims(frame, axis=0)\n",
    "    frame = preprocess_input(frame)\n",
    "    return frame\n",
    "\n",
    "# Function to predict the class of the image\n",
    "def predict_class(frame):\n",
    "    # Preprocess the frame\n",
    "    frame = preprocess_frame(frame)\n",
    "    # Make predictions\n",
    "    preds = mobilenet_model.predict(frame)\n",
    "    # Get the predicted class\n",
    "    pred_class = \"Recyclable\" if preds[0][0] > preds[0][1] else \"Organic\"\n",
    "    return pred_class\n",
    "\n",
    "# Function to update the GUI with the webcam feed\n",
    "def update_frame():\n",
    "    global panel, img\n",
    "    ret, frame = cap.read()  # Read a frame from the webcam\n",
    "    frame = cv2.cvtColor(frame, cv2.COLOR_BGR2RGB)  # Convert frame to RGB format\n",
    "    pred_class = predict_class(frame)  # Predict the class of the image\n",
    "\n",
    "    # Update the GUI with the current frame and predicted class\n",
    "    img = Image.fromarray(frame)\n",
    "    img = ImageTk.PhotoImage(image=img)\n",
    "    panel.config(image=img)\n",
    "    panel.image = img  # Retain reference to the image object\n",
    "    label.config(text=\"Predicted Class: \" + pred_class)\n",
    "\n",
    "    # Schedule the next update after 10 milliseconds\n",
    "    panel.after(10, update_frame)\n",
    "\n",
    "# Create the main GUI window\n",
    "root = tk.Tk()\n",
    "root.title(\"Webcam Feed\")\n",
    "\n",
    "# Create a panel to display the webcam feed\n",
    "panel = tk.Label(root)\n",
    "panel.pack(padx=10, pady=10)\n",
    "\n",
    "# Create a label to display the predicted class\n",
    "label = tk.Label(root, text=\"\")\n",
    "label.pack(padx=10, pady=5)\n",
    "\n",
    "# Open the webcam (0 is the default webcam)\n",
    "cap = cv2.VideoCapture(0)\n",
    "\n",
    "# Start updating the GUI with the webcam feed\n",
    "update_frame()\n",
    "\n",
    "# Run the GUI application\n",
    "root.mainloop()\n",
    "\n",
    "# Release the webcam\n",
    "cap.release()"
   ]
  },
  {
   "cell_type": "code",
   "execution_count": 2,
   "metadata": {},
   "outputs": [
    {
     "name": "stdout",
     "output_type": "stream",
     "text": [
      "Requirement already satisfied: pillow in c:\\users\\farid\\anaconda3\\lib\\site-packages (8.2.0)\n",
      "Collecting pillow\n",
      "  Downloading pillow-10.2.0-cp38-cp38-win_amd64.whl (2.6 MB)\n",
      "Installing collected packages: pillow\n",
      "  Attempting uninstall: pillow\n",
      "    Found existing installation: Pillow 8.2.0\n",
      "    Uninstalling Pillow-8.2.0:\n",
      "      Successfully uninstalled Pillow-8.2.0\n",
      "Successfully installed pillow-10.2.0\n",
      "Note: you may need to restart the kernel to use updated packages.\n"
     ]
    }
   ],
   "source": [
    "pip install --upgrade pillow"
   ]
  },
  {
   "cell_type": "code",
   "execution_count": null,
   "metadata": {},
   "outputs": [],
   "source": []
  }
 ],
 "metadata": {
  "colab": {
   "provenance": []
  },
  "kernelspec": {
   "display_name": "Python 3",
   "language": "python",
   "name": "python3"
  },
  "language_info": {
   "codemirror_mode": {
    "name": "ipython",
    "version": 3
   },
   "file_extension": ".py",
   "mimetype": "text/x-python",
   "name": "python",
   "nbconvert_exporter": "python",
   "pygments_lexer": "ipython3",
   "version": "3.8.8"
  }
 },
 "nbformat": 4,
 "nbformat_minor": 4
}
